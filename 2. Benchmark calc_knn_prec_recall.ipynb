{
 "cells": [
  {
   "cell_type": "code",
   "execution_count": 1,
   "metadata": {},
   "outputs": [],
   "source": [
    "import pandas as pd\n",
    "import utilities as ut\n",
    "import numpy as np\n",
    "import matplotlib.pyplot as plt\n",
    "import seaborn as sns\n",
    "import pandas as pd"
   ]
  },
  {
   "cell_type": "code",
   "execution_count": 2,
   "metadata": {},
   "outputs": [],
   "source": [
    "folder_name = \"data\"\n",
    "feat_path = f\"./{folder_name}/2020_11_04_CPJUMP1_normalized_feature_select_negcon_batch.parquet.gz\"\n",
    "\n",
    "df = pd.read_parquet(feat_path)\n",
    "pca_df = pd.read_parquet(f'./{folder_name}/pca_df.parquet.gzip')"
   ]
  },
  {
   "cell_type": "code",
   "execution_count": 3,
   "metadata": {},
   "outputs": [
    {
     "name": "stdout",
     "output_type": "stream",
     "text": [
      "Compound A549 48\n",
      "Compound A549 24\n",
      "Compound U2OS 24\n",
      "Compound U2OS 48\n",
      "ORF A549 48\n",
      "ORF A549 96\n",
      "ORF U2OS 48\n",
      "ORF U2OS 96\n",
      "CRISPR U2OS 144\n",
      "CRISPR U2OS 96\n",
      "CRISPR A549 144\n",
      "CRISPR A549 96\n"
     ]
    }
   ],
   "source": [
    "ks = list(range(1, 7, 2))# Different values of k\n",
    "unique_experiments = df['Metadata_experiment_type'].unique()\n",
    "unique_cells = {exp: df[df['Metadata_experiment_type'] == exp]['Metadata_cell_line'].unique() for exp in unique_experiments}\n",
    "\n",
    "modalities = ['Eq_scores', 'CellProfiler', 'PCA']\n",
    "df_all_ap = pd.DataFrame()\n",
    "df_all_prec_recall = pd.DataFrame()\n",
    "df_all_q2 = pd.DataFrame()\n",
    "for modality_1_perturbation in unique_experiments:\n",
    "    for cell in unique_cells[modality_1_perturbation]:\n",
    "        for modality_1_timepoint in df.query(f'Metadata_cell_line == \"{cell}\" & Metadata_experiment_type == \"{modality_1_perturbation}\"').Metadata_timepoint.unique():\n",
    "            print(modality_1_perturbation, cell, modality_1_timepoint)\n",
    "            cell_line = cell\n",
    "            comp_time = modality_1_timepoint\n",
    "            comp_mod = modality_1_perturbation\n",
    "            comp_cond_query = f\"Metadata_experiment_type == '{comp_mod}' \\\n",
    "                        & Metadata_cell_line == '{cell_line}' \\\n",
    "                        & Metadata_timepoint == {comp_time} \\\n",
    "                        & Metadata_experiment_condition == 'Standard'\"\n",
    "            if modality_1_perturbation == 'Compound':\n",
    "                target_var = 'Metadata_pert_iname'\n",
    "            else:\n",
    "                target_var = 'Metadata_broad_sample'      \n",
    "            for modality in modalities:\n",
    "                if modality == 'Eq_scores':\n",
    "                    mod_df = pd.read_parquet(f'./{folder_name}/{modality_1_perturbation}_with_{modality_1_perturbation}_eq_cv_{cell}_{modality_1_timepoint}.parquet.gzip')\n",
    "                elif modality == 'CellProfiler':\n",
    "                    mod_df = df.query(comp_cond_query).copy()\n",
    "                elif modality == 'PCA':\n",
    "                    mod_df = pca_df.query(comp_cond_query).copy()\n",
    "                \n",
    "                metadata_cols = [col for col in mod_df.columns if col.startswith('Metadata')]\n",
    "                feature_cols = [col for col in mod_df.columns if not col.startswith('Metadata')]\n",
    "            \n",
    "                X = mod_df[feature_cols]\n",
    "                y = mod_df[target_var].where(mod_df['Metadata_control_type'] != 'negcon', 'negcon')\n",
    "\n",
    "                df_prec_recall = ut.knn_map_loocv(X, y, ks)\n",
    "                # Adding metadata information to the results\n",
    "                df_prec_recall['Modality'] = modality\n",
    "                df_prec_recall['Perturbation'] = modality_1_perturbation\n",
    "                df_prec_recall['Cell Line'] = cell\n",
    "                df_prec_recall['Timepoint'] = modality_1_timepoint\n",
    "                \n",
    "                # Append to the main dataframes\n",
    "                df_all_prec_recall = df_all_prec_recall.append(df_prec_recall)"
   ]
  },
  {
   "cell_type": "code",
   "execution_count": 4,
   "metadata": {},
   "outputs": [],
   "source": [
    "def categorize_time(modality, timepoint):\n",
    "    if modality == 'CRISPR':\n",
    "        return 'Long' if timepoint == 144 else 'Short'\n",
    "    elif modality == 'ORF':\n",
    "        return 'Long' if timepoint == 96 else 'Short'\n",
    "    elif modality == 'Compound':\n",
    "        return 'Long' if timepoint == 48 else 'Short'\n",
    "    else:\n",
    "        return 'Unknown'\n",
    "\n",
    "# Applying the function to create the 'Time' column\n",
    "df_all_prec_recall['Time'] = df_all_prec_recall.apply(lambda row: categorize_time(row['Perturbation'], row['Timepoint']), axis=1)\n",
    "df_all_prec_recall.to_csv(f'./{folder_name}/all_prec_recall_values.csv', index=False)"
   ]
  },
  {
   "cell_type": "markdown",
   "metadata": {},
   "source": [
    "### Random data benchmark"
   ]
  },
  {
   "cell_type": "code",
   "execution_count": 6,
   "metadata": {},
   "outputs": [],
   "source": [
    "row, col = ut.get_featuredata(df).shape\n",
    "ar = np.random.rand(row, col)"
   ]
  },
  {
   "cell_type": "code",
   "execution_count": 7,
   "metadata": {},
   "outputs": [],
   "source": [
    "rand_df = pd.concat([ut.get_metadata(df), pd.DataFrame(data=ar)], axis=1)\n",
    "rand_df.columns = rand_df.columns.astype(str)"
   ]
  },
  {
   "cell_type": "code",
   "execution_count": 8,
   "metadata": {},
   "outputs": [],
   "source": [
    "df = rand_df.copy()"
   ]
  },
  {
   "cell_type": "code",
   "execution_count": 9,
   "metadata": {},
   "outputs": [],
   "source": [
    "pca_df = pd.read_parquet(f'./{folder_name}/rand_pca_df.parquet.gzip')"
   ]
  },
  {
   "cell_type": "code",
   "execution_count": 10,
   "metadata": {},
   "outputs": [
    {
     "name": "stdout",
     "output_type": "stream",
     "text": [
      "Compound A549 48\n",
      "Compound A549 24\n",
      "Compound U2OS 24\n",
      "Compound U2OS 48\n"
     ]
    }
   ],
   "source": [
    "ks = list(range(1, 7, 2))# Different values of k\n",
    "# Pre-filter data based on unique experiment types, cell lines, and timepoints\n",
    "unique_experiments = ['Compound'] ## Only check random for one modality\n",
    "unique_cells = {exp: rand_df[rand_df['Metadata_experiment_type'] == exp]['Metadata_cell_line'].unique() for exp in unique_experiments}\n",
    "\n",
    "modalities = ['Eq_scores', 'CellProfiler', 'PCA']\n",
    "df_all_ap = pd.DataFrame()\n",
    "df_all_prec_recall = pd.DataFrame()\n",
    "df_all_q2 = pd.DataFrame()\n",
    "for modality_1_perturbation in unique_experiments:\n",
    "    for cell in unique_cells[modality_1_perturbation]:\n",
    "        for modality_1_timepoint in rand_df.query(f'Metadata_cell_line == \"{cell}\" & Metadata_experiment_type == \"{modality_1_perturbation}\"').Metadata_timepoint.unique():\n",
    "            print(modality_1_perturbation, cell, modality_1_timepoint)\n",
    "            cell_line = cell\n",
    "            comp_time = modality_1_timepoint\n",
    "            comp_mod = modality_1_perturbation\n",
    "            comp_cond_query = f\"Metadata_experiment_type == '{comp_mod}' \\\n",
    "                        & Metadata_cell_line == '{cell_line}' \\\n",
    "                        & Metadata_timepoint == {comp_time} \\\n",
    "                        & Metadata_experiment_condition == 'Standard'\"\n",
    "            if modality_1_perturbation == 'Compound':\n",
    "                target_var = 'Metadata_pert_iname'\n",
    "            else:\n",
    "                target_var = 'Metadata_broad_sample'      \n",
    "            for modality in modalities:\n",
    "                if modality == 'Eq_scores':\n",
    "                    mod_df = pd.read_parquet(f'./{folder_name}/{modality_1_perturbation}_with_{modality_1_perturbation}_eq_cv_{cell}_{modality_1_timepoint}_random.parquet.gzip')\n",
    "                elif modality == 'CellProfiler':\n",
    "                    mod_df = rand_df.query(comp_cond_query).copy()\n",
    "                elif modality == 'PCA':\n",
    "                    mod_df = pca_df.query(comp_cond_query).copy()\n",
    "                \n",
    "                metadata_cols = [col for col in mod_df.columns if col.startswith('Metadata')]\n",
    "                feature_cols = [col for col in mod_df.columns if not col.startswith('Metadata')]\n",
    "            \n",
    "                X = mod_df[feature_cols]\n",
    "                y = mod_df[target_var].where(mod_df['Metadata_control_type'] != 'negcon', 'negcon')\n",
    "                # print(\"Modality and shape:\", modality, X.shape)\n",
    "                 df_prec_recall = ut.knn_map_loocv(X, y, ks)\n",
    "                 # Adding metadata information to the results\n",
    "                df_prec_recall['Modality'] = modality\n",
    "                df_prec_recall['Perturbation'] = modality_1_perturbation\n",
    "                df_prec_recall['Cell Line'] = cell\n",
    "                df_prec_recall['Timepoint'] = modality_1_timepoint\n",
    "                \n",
    "                # Append to the main dataframes\n",
    "                df_all_prec_recall = df_all_prec_recall.append(df_prec_recall)\n",
    "\n"
   ]
  },
  {
   "cell_type": "code",
   "execution_count": 11,
   "metadata": {},
   "outputs": [],
   "source": [
    "# Applying the function to create the 'Time' column\n",
    "df_all_prec_recall['Time'] = df_all_prec_recall.apply(lambda row: categorize_time(row['Perturbation'], row['Timepoint']), axis=1)\n",
    "df_all_prec_recall.to_csv(f'./{folder_name}/all_prec_recall_values_random.csv', index=False)"
   ]
  }
 ],
 "metadata": {
  "kernelspec": {
   "display_name": "analysis",
   "language": "python",
   "name": "analysis"
  },
  "language_info": {
   "codemirror_mode": {
    "name": "ipython",
    "version": 3
   },
   "file_extension": ".py",
   "mimetype": "text/x-python",
   "name": "python",
   "nbconvert_exporter": "python",
   "pygments_lexer": "ipython3",
   "version": "3.8.5"
  }
 },
 "nbformat": 4,
 "nbformat_minor": 2
}
