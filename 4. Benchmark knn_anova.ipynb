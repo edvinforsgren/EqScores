{
 "cells": [
  {
   "cell_type": "code",
   "execution_count": 1,
   "metadata": {},
   "outputs": [],
   "source": [
    "import pandas as pd\n",
    "from statsmodels.formula.api import ols\n",
    "import statsmodels.api as sm"
   ]
  },
  {
   "cell_type": "code",
   "execution_count": 2,
   "metadata": {},
   "outputs": [],
   "source": [
    "folder_name = \"data\"\n",
    "data = pd.read_csv(f'./{folder_name}/all_prec_recall_values.csv')\n",
    "\n",
    "# Data cleaning: removing unnecessary columns\n",
    "data_cleaned = data.drop(['Timepoint'], axis=1)\n",
    "\n",
    "# Renaming the 'Cell Line' column to remove the space\n",
    "data_cleaned.rename(columns={'Cell Line': 'Cell_Line'}, inplace=True)"
   ]
  },
  {
   "cell_type": "code",
   "execution_count": 5,
   "metadata": {},
   "outputs": [
    {
     "name": "stdout",
     "output_type": "stream",
     "text": [
      "Precision:\n",
      "                                     sum_sq    df           F        PR(>F)\n",
      "C(Modality)                       0.052444   2.0    4.834405  1.038957e-02\n",
      "C(Perturbation)                   3.821518   2.0  352.275876  1.094117e-40\n",
      "C(K)                              0.034406   2.0    3.171614  4.719098e-02\n",
      "C(Modality):C(Perturbation)       0.020560   4.0    0.947621  4.409318e-01\n",
      "C(Modality):C(K)                  0.000407   4.0    0.018766  9.992970e-01\n",
      "C(Perturbation):C(K)              0.003060   4.0    0.141038  9.664358e-01\n",
      "C(Modality):C(Perturbation):C(K)  0.000995   8.0    0.022922  9.999969e-01\n",
      "Residual                          0.439347  81.0         NaN           NaN\n",
      "\n",
      "Recall:\n",
      "                                     sum_sq    df           F        PR(>F)\n",
      "C(Modality)                       0.061987   2.0    5.932601  3.940910e-03\n",
      "C(Perturbation)                   3.453510   2.0  330.525652  1.099180e-39\n",
      "C(K)                              0.015642   2.0    1.497055  2.299140e-01\n",
      "C(Modality):C(Perturbation)       0.029415   4.0    1.407628  2.388647e-01\n",
      "C(Modality):C(K)                  0.000287   4.0    0.013745  9.996202e-01\n",
      "C(Perturbation):C(K)              0.003662   4.0    0.175217  9.505359e-01\n",
      "C(Modality):C(Perturbation):C(K)  0.000442   8.0    0.010574  9.999999e-01\n",
      "Residual                          0.423166  81.0         NaN           NaN\n"
     ]
    }
   ],
   "source": [
    "# Updating the formula with the corrected column name\n",
    "formula = 'Precision ~ C(Modality) * C(Perturbation) * C(K)'\n",
    "formula_recall = 'Recall ~ C(Modality) * C(Perturbation) * C(K)'\n",
    "# Fit the ANOVA models for Precision and Recall\n",
    "model_precision = ols(formula, data=data_cleaned).fit()\n",
    "anova_table_precision = sm.stats.anova_lm(model_precision, typ=2)\n",
    "\n",
    "model_recall = ols(formula_recall, data=data_cleaned).fit() #[['Modality', 'Perturbation', 'Recall']]\n",
    "anova_table_recall = sm.stats.anova_lm(model_recall, typ=2)\n",
    "\n",
    "print(\"Precision:\\n\", anova_table_precision)\n",
    "print(\"\\nRecall:\\n\", anova_table_recall)"
   ]
  }
 ],
 "metadata": {
  "kernelspec": {
   "display_name": "analysis",
   "language": "python",
   "name": "analysis"
  },
  "language_info": {
   "codemirror_mode": {
    "name": "ipython",
    "version": 3
   },
   "file_extension": ".py",
   "mimetype": "text/x-python",
   "name": "python",
   "nbconvert_exporter": "python",
   "pygments_lexer": "ipython3",
   "version": "3.8.5"
  }
 },
 "nbformat": 4,
 "nbformat_minor": 2
}
